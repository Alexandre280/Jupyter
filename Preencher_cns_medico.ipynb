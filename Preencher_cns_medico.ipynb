{
 "cells": [
  {
   "cell_type": "markdown",
   "id": "aa400780",
   "metadata": {},
   "source": [
    "# ABRE NAVEGADOR E NO TASY"
   ]
  },
  {
   "cell_type": "code",
   "execution_count": 27,
   "id": "553dcb54",
   "metadata": {},
   "outputs": [
    {
     "ename": "InvalidArgumentException",
     "evalue": "Message: invalid argument\n  (Session info: chrome=99.0.4844.84)\nStacktrace:\nBacktrace:\n\tOrdinal0 [0x00767AC3+2587331]\n\tOrdinal0 [0x006FADD1+2141649]\n\tOrdinal0 [0x005F3A80+1063552]\n\tOrdinal0 [0x005E5CD3+1006803]\n\tOrdinal0 [0x005E4A9A+1002138]\n\tOrdinal0 [0x005E4B76+1002358]\n\tOrdinal0 [0x005F52AA+1069738]\n\tOrdinal0 [0x00648FBD+1413053]\n\tOrdinal0 [0x0063868C+1345164]\n\tOrdinal0 [0x00648A0A+1411594]\n\tOrdinal0 [0x006384A6+1344678]\n\tOrdinal0 [0x006153F6+1201142]\n\tOrdinal0 [0x006162E6+1204966]\n\tGetHandleVerifier [0x0090DF22+1680738]\n\tGetHandleVerifier [0x009C0DBC+2413564]\n\tGetHandleVerifier [0x007FD151+563089]\n\tGetHandleVerifier [0x007FBF13+558419]\n\tOrdinal0 [0x0070081E+2164766]\n\tOrdinal0 [0x00705508+2184456]\n\tOrdinal0 [0x00705650+2184784]\n\tOrdinal0 [0x0070F5BC+2225596]\n\tBaseThreadInitThunk [0x756FFA29+25]\n\tRtlGetAppContainerNamedObjectPath [0x777F7A9E+286]\n\tRtlGetAppContainerNamedObjectPath [0x777F7A6E+238]\n",
     "output_type": "error",
     "traceback": [
      "\u001b[1;31m---------------------------------------------------------------------------\u001b[0m",
      "\u001b[1;31mInvalidArgumentException\u001b[0m                  Traceback (most recent call last)",
      "\u001b[1;32m~\\AppData\\Local\\Temp/ipykernel_14676/183735520.py\u001b[0m in \u001b[0;36m<module>\u001b[1;34m\u001b[0m\n\u001b[0;32m     10\u001b[0m \u001b[1;33m\u001b[0m\u001b[0m\n\u001b[0;32m     11\u001b[0m \u001b[0mmeuNavegador\u001b[0m \u001b[1;33m=\u001b[0m \u001b[0mopções_selenium_aula\u001b[0m\u001b[1;33m.\u001b[0m\u001b[0mChrome\u001b[0m\u001b[1;33m(\u001b[0m\u001b[1;33m)\u001b[0m\u001b[1;33m\u001b[0m\u001b[1;33m\u001b[0m\u001b[0m\n\u001b[1;32m---> 12\u001b[1;33m \u001b[0mmeuNavegador\u001b[0m\u001b[1;33m.\u001b[0m\u001b[0mget\u001b[0m\u001b[1;33m(\u001b[0m\u001b[1;34m'tasyweb.spdmafiliadas.org.br'\u001b[0m\u001b[1;33m)\u001b[0m\u001b[1;33m\u001b[0m\u001b[1;33m\u001b[0m\u001b[0m\n\u001b[0m",
      "\u001b[1;32mC:\\ProgramData\\Anaconda3\\lib\\site-packages\\selenium\\webdriver\\remote\\webdriver.py\u001b[0m in \u001b[0;36mget\u001b[1;34m(self, url)\u001b[0m\n\u001b[0;32m    434\u001b[0m         \u001b[0mLoads\u001b[0m \u001b[0ma\u001b[0m \u001b[0mweb\u001b[0m \u001b[0mpage\u001b[0m \u001b[1;32min\u001b[0m \u001b[0mthe\u001b[0m \u001b[0mcurrent\u001b[0m \u001b[0mbrowser\u001b[0m \u001b[0msession\u001b[0m\u001b[1;33m.\u001b[0m\u001b[1;33m\u001b[0m\u001b[1;33m\u001b[0m\u001b[0m\n\u001b[0;32m    435\u001b[0m         \"\"\"\n\u001b[1;32m--> 436\u001b[1;33m         \u001b[0mself\u001b[0m\u001b[1;33m.\u001b[0m\u001b[0mexecute\u001b[0m\u001b[1;33m(\u001b[0m\u001b[0mCommand\u001b[0m\u001b[1;33m.\u001b[0m\u001b[0mGET\u001b[0m\u001b[1;33m,\u001b[0m \u001b[1;33m{\u001b[0m\u001b[1;34m'url'\u001b[0m\u001b[1;33m:\u001b[0m \u001b[0murl\u001b[0m\u001b[1;33m}\u001b[0m\u001b[1;33m)\u001b[0m\u001b[1;33m\u001b[0m\u001b[1;33m\u001b[0m\u001b[0m\n\u001b[0m\u001b[0;32m    437\u001b[0m \u001b[1;33m\u001b[0m\u001b[0m\n\u001b[0;32m    438\u001b[0m     \u001b[1;33m@\u001b[0m\u001b[0mproperty\u001b[0m\u001b[1;33m\u001b[0m\u001b[1;33m\u001b[0m\u001b[0m\n",
      "\u001b[1;32mC:\\ProgramData\\Anaconda3\\lib\\site-packages\\selenium\\webdriver\\remote\\webdriver.py\u001b[0m in \u001b[0;36mexecute\u001b[1;34m(self, driver_command, params)\u001b[0m\n\u001b[0;32m    422\u001b[0m         \u001b[0mresponse\u001b[0m \u001b[1;33m=\u001b[0m \u001b[0mself\u001b[0m\u001b[1;33m.\u001b[0m\u001b[0mcommand_executor\u001b[0m\u001b[1;33m.\u001b[0m\u001b[0mexecute\u001b[0m\u001b[1;33m(\u001b[0m\u001b[0mdriver_command\u001b[0m\u001b[1;33m,\u001b[0m \u001b[0mparams\u001b[0m\u001b[1;33m)\u001b[0m\u001b[1;33m\u001b[0m\u001b[1;33m\u001b[0m\u001b[0m\n\u001b[0;32m    423\u001b[0m         \u001b[1;32mif\u001b[0m \u001b[0mresponse\u001b[0m\u001b[1;33m:\u001b[0m\u001b[1;33m\u001b[0m\u001b[1;33m\u001b[0m\u001b[0m\n\u001b[1;32m--> 424\u001b[1;33m             \u001b[0mself\u001b[0m\u001b[1;33m.\u001b[0m\u001b[0merror_handler\u001b[0m\u001b[1;33m.\u001b[0m\u001b[0mcheck_response\u001b[0m\u001b[1;33m(\u001b[0m\u001b[0mresponse\u001b[0m\u001b[1;33m)\u001b[0m\u001b[1;33m\u001b[0m\u001b[1;33m\u001b[0m\u001b[0m\n\u001b[0m\u001b[0;32m    425\u001b[0m             response['value'] = self._unwrap_value(\n\u001b[0;32m    426\u001b[0m                 response.get('value', None))\n",
      "\u001b[1;32mC:\\ProgramData\\Anaconda3\\lib\\site-packages\\selenium\\webdriver\\remote\\errorhandler.py\u001b[0m in \u001b[0;36mcheck_response\u001b[1;34m(self, response)\u001b[0m\n\u001b[0;32m    245\u001b[0m                 \u001b[0malert_text\u001b[0m \u001b[1;33m=\u001b[0m \u001b[0mvalue\u001b[0m\u001b[1;33m[\u001b[0m\u001b[1;34m'alert'\u001b[0m\u001b[1;33m]\u001b[0m\u001b[1;33m.\u001b[0m\u001b[0mget\u001b[0m\u001b[1;33m(\u001b[0m\u001b[1;34m'text'\u001b[0m\u001b[1;33m)\u001b[0m\u001b[1;33m\u001b[0m\u001b[1;33m\u001b[0m\u001b[0m\n\u001b[0;32m    246\u001b[0m             \u001b[1;32mraise\u001b[0m \u001b[0mexception_class\u001b[0m\u001b[1;33m(\u001b[0m\u001b[0mmessage\u001b[0m\u001b[1;33m,\u001b[0m \u001b[0mscreen\u001b[0m\u001b[1;33m,\u001b[0m \u001b[0mstacktrace\u001b[0m\u001b[1;33m,\u001b[0m \u001b[0malert_text\u001b[0m\u001b[1;33m)\u001b[0m  \u001b[1;31m# type: ignore[call-arg]  # mypy is not smart enough here\u001b[0m\u001b[1;33m\u001b[0m\u001b[1;33m\u001b[0m\u001b[0m\n\u001b[1;32m--> 247\u001b[1;33m         \u001b[1;32mraise\u001b[0m \u001b[0mexception_class\u001b[0m\u001b[1;33m(\u001b[0m\u001b[0mmessage\u001b[0m\u001b[1;33m,\u001b[0m \u001b[0mscreen\u001b[0m\u001b[1;33m,\u001b[0m \u001b[0mstacktrace\u001b[0m\u001b[1;33m)\u001b[0m\u001b[1;33m\u001b[0m\u001b[1;33m\u001b[0m\u001b[0m\n\u001b[0m\u001b[0;32m    248\u001b[0m \u001b[1;33m\u001b[0m\u001b[0m\n\u001b[0;32m    249\u001b[0m     \u001b[1;32mdef\u001b[0m \u001b[0m_value_or_default\u001b[0m\u001b[1;33m(\u001b[0m\u001b[0mself\u001b[0m\u001b[1;33m,\u001b[0m \u001b[0mobj\u001b[0m\u001b[1;33m:\u001b[0m \u001b[0mMapping\u001b[0m\u001b[1;33m[\u001b[0m\u001b[0m_KT\u001b[0m\u001b[1;33m,\u001b[0m \u001b[0m_VT\u001b[0m\u001b[1;33m]\u001b[0m\u001b[1;33m,\u001b[0m \u001b[0mkey\u001b[0m\u001b[1;33m:\u001b[0m \u001b[0m_KT\u001b[0m\u001b[1;33m,\u001b[0m \u001b[0mdefault\u001b[0m\u001b[1;33m:\u001b[0m \u001b[0m_VT\u001b[0m\u001b[1;33m)\u001b[0m \u001b[1;33m->\u001b[0m \u001b[0m_VT\u001b[0m\u001b[1;33m:\u001b[0m\u001b[1;33m\u001b[0m\u001b[1;33m\u001b[0m\u001b[0m\n",
      "\u001b[1;31mInvalidArgumentException\u001b[0m: Message: invalid argument\n  (Session info: chrome=99.0.4844.84)\nStacktrace:\nBacktrace:\n\tOrdinal0 [0x00767AC3+2587331]\n\tOrdinal0 [0x006FADD1+2141649]\n\tOrdinal0 [0x005F3A80+1063552]\n\tOrdinal0 [0x005E5CD3+1006803]\n\tOrdinal0 [0x005E4A9A+1002138]\n\tOrdinal0 [0x005E4B76+1002358]\n\tOrdinal0 [0x005F52AA+1069738]\n\tOrdinal0 [0x00648FBD+1413053]\n\tOrdinal0 [0x0063868C+1345164]\n\tOrdinal0 [0x00648A0A+1411594]\n\tOrdinal0 [0x006384A6+1344678]\n\tOrdinal0 [0x006153F6+1201142]\n\tOrdinal0 [0x006162E6+1204966]\n\tGetHandleVerifier [0x0090DF22+1680738]\n\tGetHandleVerifier [0x009C0DBC+2413564]\n\tGetHandleVerifier [0x007FD151+563089]\n\tGetHandleVerifier [0x007FBF13+558419]\n\tOrdinal0 [0x0070081E+2164766]\n\tOrdinal0 [0x00705508+2184456]\n\tOrdinal0 [0x00705650+2184784]\n\tOrdinal0 [0x0070F5BC+2225596]\n\tBaseThreadInitThunk [0x756FFA29+25]\n\tRtlGetAppContainerNamedObjectPath [0x777F7A9E+286]\n\tRtlGetAppContainerNamedObjectPath [0x777F7A6E+238]\n"
     ]
    }
   ],
   "source": [
    "from selenium import webdriver as opções_selenium_aula\n",
    "from selenium.webdriver.common.keys import Keys\n",
    "from selenium.webdriver.common.by import By\n",
    "import pyautogui as pagi\n",
    "from openpyxl import load_workbook\n",
    "import os\n",
    "from unidecode import unidecode\n",
    "import time\n",
    "from datetime import datetime\n",
    "\n",
    "meuNavegador = opções_selenium_aula.Chrome()\n",
    "meuNavegador.get('tasyweb.spdmafiliadas.org.br')"
   ]
  },
  {
   "cell_type": "markdown",
   "id": "5a0aa2a1",
   "metadata": {},
   "source": [
    "# EXECUTA PROCEDIMENTO NO TASY"
   ]
  },
  {
   "cell_type": "code",
   "execution_count": 40,
   "id": "1b610457",
   "metadata": {},
   "outputs": [
    {
     "name": "stdout",
     "output_type": "stream",
     "text": [
      "Preenchendo cns medico\n",
      "\n",
      "Inicio Data:  2022-07-02 - Hora:  18:49:18\n",
      "linha:  32\n",
      "matricula:  31390373\n",
      "nome:  Sicilya Santos Marques\n",
      "cns:  700006203134109\n",
      "___________===============_________________=============__________\n",
      "\n",
      "linha:  33\n",
      "matricula:  31967559\n",
      "nome:  Tassiana Caroline Borges Ribeiro Severino\n",
      "cns:  \n",
      "704105150533471\n",
      "___________===============_________________=============__________\n",
      "\n",
      "linha:  34\n",
      "matricula:  32831319\n",
      "nome:  Themissa Helena Voss\n",
      "cns:  704306520968298\n",
      "___________===============_________________=============__________\n",
      "\n",
      "linha:  35\n",
      "matricula:  33445192\n",
      "nome:  Thiago Miranda Ferreira\n",
      "cns:  700503932248554\n",
      "___________===============_________________=============__________\n",
      "\n",
      "linha:  36\n",
      "matricula:  31758970\n",
      "nome:  THIAGO OLIVEIRA LEMOS DE LIMA\n",
      "cns:  708106573117238\n",
      "___________===============_________________=============__________\n",
      "\n",
      "linha:  37\n",
      "matricula:  34681589\n",
      "nome:  TULIO AUGUSTO ALVES MACEDO\n",
      "cns:  700701459878580\n",
      "___________===============_________________=============__________\n",
      "\n",
      "linha:  38\n",
      "matricula:  31757608\n",
      "nome:  VICTOR DO COUTO CONESA JORDAO\n",
      "cns:  \n",
      "704807594829840\n",
      "___________===============_________________=============__________\n",
      "\n",
      "\n",
      "Preenchendo cns medico\n",
      "\n",
      "Finalizado Data:  2022-07-02 - Hora:  18:51:56\n"
     ]
    },
    {
     "data": {
      "text/plain": [
       "'OK'"
      ]
     },
     "execution_count": 40,
     "metadata": {},
     "output_type": "execute_result"
    }
   ],
   "source": [
    "nome_caminho_arquivo = \"C:\\\\Users\\\\6324102\\Documents\\Alexandre\\PYTHON AUTOMATIZAÇÃO\\Jupyter\\lista_usuarios_tasy\\\\medicos-sem-cns-02-07-2022.xlsx\"\n",
    "planilha_aberta = load_workbook(filename = nome_caminho_arquivo)\n",
    "\n",
    "#seleciona a aba que tem as informações a serem passadas para o formulario\n",
    "sheet_selecionada = planilha_aberta['Planilha1']\n",
    "\n",
    "pagi.alert('Preenchendo cns função medico')\n",
    "\n",
    "data = datetime.now().strftime('%Y-%m-%d')\n",
    "hora = datetime.now().strftime('%H:%M:%S')\n",
    "print('Preenchendo cns medico\\n\\nInicio', 'Data: ', data, '- Hora: ', hora)\n",
    "\n",
    "#+++++====================++++==============CAMPOS TASY\n",
    "\n",
    "campo_codigo = '//*[@id=\"detail_4_container\"]/div[3]/div[2]/tasy-wtextboxlocator/div/div/div[1]/tasy-wtextbox/div/div/input'\n",
    "botao_filtrar = '//*[@id=\"app-view\"]/tasy-corsisf1/div/w-mainlayout/div/div/feature-instance/corpesf7/div/div[4]/div[2]/tasy-wfilter/div/div[2]/div/button'\n",
    "botao_ver = '//*[@id=\"layout\"]/div/div/tasypopupmenu/tasy-wdbpanel/div/div[2]/div[2]/tasy-handlebar-new/div/div[1]/div/button[9]/span'\n",
    "campo_cns = '//*[@id=\"detail_3_container\"]/div[3]/div[8]/div[2]/tasy-wtextbox/div/div/input'\n",
    "botao_salvar = '//*[@id=\"layout\"]/div/div/tasypopupmenu/tasy-wdbpanel/div/div[2]/div[4]/div[2]/tasy-wmdetail/div[2]/div[3]/form/w-persistence-action-bar/w-persistence-action-bar-button[1]/tasy-wbutton/div'\n",
    "botao_funil_filtro = '//*[@id=\"layout\"]/div/div/tasypopupmenu/tasy-wdbpanel/div/div[2]/div[4]/tasy-wlabel'\n",
    "botao_fechar = '//*[@id=\"layout\"]/div/div/tasypopupmenu/tasy-wdbpanel/div/div[2]/div[2]/tasy-handlebar-new/div/div[1]/div/button[10]'\n",
    "\n",
    "#+++++================++====+++==============\n",
    "\n",
    "for linha in range(32, len(sheet_selecionada['A']) +1):\n",
    "    \n",
    "#for linha in range(2,3):\n",
    "    \n",
    "    #pega a informação dentro da planilha\n",
    "    pessoaF2 = sheet_selecionada['A%s' % linha].value\n",
    "    nome2 = sheet_selecionada['B%s' % linha].value\n",
    "    cns2 = sheet_selecionada['C%s' % linha].value\n",
    "    \n",
    "    pessoaF = str(pessoaF2)\n",
    "    nome = unidecode(str(nome2))\n",
    "    cns = unidecode(str(cns2))\n",
    "    \n",
    "    #PREENCHE O CAMPO CODIGO COM O CODIGO DE PESSOA FISICA\n",
    "    time.sleep(1)\n",
    "    meuNavegador.find_element(By.XPATH, campo_codigo).clear()\n",
    "    time.sleep(1)\n",
    "    meuNavegador.find_element(By.XPATH, campo_codigo).send_keys(pessoaF)\n",
    "    time.sleep(1)\n",
    "    \n",
    "    #CLICA NO BOTÃO FILTRAR\n",
    "    time.sleep(2)\n",
    "    meuNavegador.find_element(By.XPATH, botao_filtrar).click()\n",
    "    time.sleep(1)\n",
    "    \n",
    "    #CLICA NO BOTÃO VER\n",
    "    time.sleep(2)\n",
    "    meuNavegador.find_element(By.XPATH, botao_ver).click()\n",
    "    time.sleep(1)\n",
    "    \n",
    "    #LIMPA E PREENCHE O CAMPO CNS COM O CNS DA PESSOA\n",
    "    time.sleep(1)\n",
    "    meuNavegador.find_element(By.XPATH, campo_cns).clear()\n",
    "    time.sleep(1)\n",
    "    meuNavegador.find_element(By.XPATH, campo_cns).send_keys(cns)\n",
    "    time.sleep(1)\n",
    "    \n",
    "    #CLICA EM SALVAR\n",
    "    time.sleep(2)\n",
    "    meuNavegador.find_element(By.XPATH, botao_salvar).click()\n",
    "    time.sleep(1)\n",
    "    \n",
    "    #CLICA EM FECHAR\n",
    "    time.sleep(2)\n",
    "    meuNavegador.find_element(By.XPATH, botao_fechar).click()\n",
    "    time.sleep(1)\n",
    "    \n",
    "    \n",
    "    #CLICAR NO FUNIL FILTRO\n",
    "    time.sleep(2)\n",
    "    meuNavegador.find_element(By.XPATH, botao_funil_filtro).click()\n",
    "    time.sleep(1)\n",
    "    \n",
    "    \n",
    "    print('linha: ', linha)\n",
    "    print('Pessoa Fisica: ',pessoaF)\n",
    "    print('nome: ',nome)\n",
    "    print('cns: ', cns)\n",
    "    print('___________===============_________________=============__________\\n')\n",
    "\n",
    "data = datetime.now().strftime('%Y-%m-%d')\n",
    "hora = datetime.now().strftime('%H:%M:%S')\n",
    "print('\\nPreenchendo cns medico\\n\\nFinalizado', 'Data: ', data, '- Hora: ', hora)\n",
    "pagi.alert('Finalizado')"
   ]
  },
  {
   "cell_type": "code",
   "execution_count": 52,
   "id": "8deddaf5",
   "metadata": {},
   "outputs": [
    {
     "name": "stdout",
     "output_type": "stream",
     "text": [
      "False\n"
     ]
    }
   ],
   "source": [
    "check_Cc = '//*[@id=\"wid_46\"]'\n",
    "campo_corpo_clinico = '//*[@id=\"detail_5_container\"]/div[7]/div[3]/div[2]/div/div'\n",
    "\n",
    "check = meuNavegador.find_element(By.XPATH, check_Cc).is_selected()\n",
    "\n",
    "print('{}'.format(check))\n",
    "\n",
    "if check == False:\n",
    "    meuNavegador.find_element(By.XPATH, campo_corpo_clinico).click()\n"
   ]
  },
  {
   "cell_type": "code",
   "execution_count": 1,
   "id": "e679b383",
   "metadata": {},
   "outputs": [
    {
     "data": {
      "text/plain": [
       "[10, 9, 8, 7, 6, 5, 4, 3, 2]"
      ]
     },
     "execution_count": 1,
     "metadata": {},
     "output_type": "execute_result"
    }
   ],
   "source": [
    "list(range(10,1,-1))"
   ]
  },
  {
   "cell_type": "code",
   "execution_count": null,
   "id": "786a6aec",
   "metadata": {},
   "outputs": [],
   "source": []
  }
 ],
 "metadata": {
  "kernelspec": {
   "display_name": "Python 3 (ipykernel)",
   "language": "python",
   "name": "python3"
  },
  "language_info": {
   "codemirror_mode": {
    "name": "ipython",
    "version": 3
   },
   "file_extension": ".py",
   "mimetype": "text/x-python",
   "name": "python",
   "nbconvert_exporter": "python",
   "pygments_lexer": "ipython3",
   "version": "3.9.12"
  }
 },
 "nbformat": 4,
 "nbformat_minor": 5
}
