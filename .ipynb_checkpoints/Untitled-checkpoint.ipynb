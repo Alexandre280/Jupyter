{
 "cells": [
  {
   "cell_type": "markdown",
   "id": "315bcf64",
   "metadata": {},
   "source": [
    "# ABRE NAVEGADOR E NO TASY"
   ]
  },
  {
   "cell_type": "code",
   "execution_count": 4,
   "id": "12b693b9",
   "metadata": {},
   "outputs": [],
   "source": [
    "from selenium import webdriver as opções_selenium_aula\n",
    "from selenium.webdriver.common.keys import Keys\n",
    "from selenium.webdriver.common.by import By\n",
    "import pyautogui as pagi\n",
    "from openpyxl import load_workbook\n",
    "import os\n",
    "from unidecode import unidecode\n",
    "import time\n",
    "from datetime import datetime\n",
    "\n",
    "meuNavegador = opções_selenium_aula.Chrome()\n",
    "meuNavegador.get('http://tasyweb.spdmafiliadas.org.br/#/')"
   ]
  },
  {
   "cell_type": "markdown",
   "id": "adf5ac1b",
   "metadata": {},
   "source": [
    "# EXECUTA PROCEDIMENTO NO TASY"
   ]
  },
  {
   "cell_type": "code",
   "execution_count": 21,
   "id": "d6122478",
   "metadata": {},
   "outputs": [
    {
     "name": "stdout",
     "output_type": "stream",
     "text": [
      "Criação Usuario Tec Enfermagem Tasy\n",
      "\n",
      "Inicio Data:  2022-09-29 - Hora:  11:45:13\n",
      "paciente não cadastrado\n",
      "linha:  2\n",
      "matricula:  123654\n",
      "nome:  test2\n",
      "cargo:  tec\n",
      "___________===============_________________=============__________\n",
      "\n",
      "linha:  3\n",
      "matricula:  6324102\n",
      "nome:  None\n",
      "cargo:  None\n",
      "___________===============_________________=============__________\n",
      "\n",
      "\n",
      "Criação Usuario Tec Enfermagem Tasy\n",
      "\n",
      "Finalizado Data:  2022-09-29 - Hora:  11:45:38\n"
     ]
    },
    {
     "ename": "KeyboardInterrupt",
     "evalue": "",
     "output_type": "error",
     "traceback": [
      "\u001b[1;31m---------------------------------------------------------------------------\u001b[0m",
      "\u001b[1;31mKeyboardInterrupt\u001b[0m                         Traceback (most recent call last)",
      "Input \u001b[1;32mIn [21]\u001b[0m, in \u001b[0;36m<cell line: 110>\u001b[1;34m()\u001b[0m\n\u001b[0;32m    108\u001b[0m hora \u001b[38;5;241m=\u001b[39m datetime\u001b[38;5;241m.\u001b[39mnow()\u001b[38;5;241m.\u001b[39mstrftime(\u001b[38;5;124m'\u001b[39m\u001b[38;5;124m%\u001b[39m\u001b[38;5;124mH:\u001b[39m\u001b[38;5;124m%\u001b[39m\u001b[38;5;124mM:\u001b[39m\u001b[38;5;124m%\u001b[39m\u001b[38;5;124mS\u001b[39m\u001b[38;5;124m'\u001b[39m)\n\u001b[0;32m    109\u001b[0m \u001b[38;5;28mprint\u001b[39m(\u001b[38;5;124m'\u001b[39m\u001b[38;5;130;01m\\n\u001b[39;00m\u001b[38;5;124mCriação Usuario Tec Enfermagem Tasy\u001b[39m\u001b[38;5;130;01m\\n\u001b[39;00m\u001b[38;5;130;01m\\n\u001b[39;00m\u001b[38;5;124mFinalizado\u001b[39m\u001b[38;5;124m'\u001b[39m, \u001b[38;5;124m'\u001b[39m\u001b[38;5;124mData: \u001b[39m\u001b[38;5;124m'\u001b[39m, data, \u001b[38;5;124m'\u001b[39m\u001b[38;5;124m- Hora: \u001b[39m\u001b[38;5;124m'\u001b[39m, hora)\n\u001b[1;32m--> 110\u001b[0m \u001b[43mpagi\u001b[49m\u001b[38;5;241;43m.\u001b[39;49m\u001b[43malert\u001b[49m\u001b[43m(\u001b[49m\u001b[38;5;124;43m'\u001b[39;49m\u001b[38;5;124;43mFinalizado\u001b[39;49m\u001b[38;5;124;43m'\u001b[39;49m\u001b[43m)\u001b[49m\n",
      "File \u001b[1;32m~\\Anaconda3\\lib\\site-packages\\pymsgbox\\_native_win.py:69\u001b[0m, in \u001b[0;36malert\u001b[1;34m(text, title, button, root, timeout, icon, _tkinter)\u001b[0m\n\u001b[0;32m     64\u001b[0m \u001b[38;5;28;01mif\u001b[39;00m (_tkinter) \u001b[38;5;129;01mor\u001b[39;00m (timeout \u001b[38;5;129;01mis\u001b[39;00m \u001b[38;5;129;01mnot\u001b[39;00m \u001b[38;5;28;01mNone\u001b[39;00m) \u001b[38;5;129;01mor\u001b[39;00m (button \u001b[38;5;241m!=\u001b[39m pymsgbox\u001b[38;5;241m.\u001b[39mOK_TEXT):\n\u001b[0;32m     65\u001b[0m     \u001b[38;5;66;03m# Timeouts are not supported by Windows message boxes.\u001b[39;00m\n\u001b[0;32m     66\u001b[0m     \u001b[38;5;66;03m# Call the original tkinter alert function, not this native one:\u001b[39;00m\n\u001b[0;32m     67\u001b[0m     \u001b[38;5;28;01mreturn\u001b[39;00m pymsgbox\u001b[38;5;241m.\u001b[39m_alertTkinter(text, title, button, root, timeout)\n\u001b[1;32m---> 69\u001b[0m \u001b[43mmessageBoxFunc\u001b[49m\u001b[43m(\u001b[49m\u001b[38;5;241;43m0\u001b[39;49m\u001b[43m,\u001b[49m\u001b[43m \u001b[49m\u001b[43mtext\u001b[49m\u001b[43m,\u001b[49m\u001b[43m \u001b[49m\u001b[43mtitle\u001b[49m\u001b[43m,\u001b[49m\u001b[43m \u001b[49m\u001b[43mMB_OK\u001b[49m\u001b[43m \u001b[49m\u001b[38;5;241;43m|\u001b[39;49m\u001b[43m \u001b[49m\u001b[43mMB_SETFOREGROUND\u001b[49m\u001b[43m \u001b[49m\u001b[38;5;241;43m|\u001b[39;49m\u001b[43m \u001b[49m\u001b[43mMB_TOPMOST\u001b[49m\u001b[43m \u001b[49m\u001b[38;5;241;43m|\u001b[39;49m\u001b[43m \u001b[49m\u001b[43micon\u001b[49m\u001b[43m)\u001b[49m\n\u001b[0;32m     70\u001b[0m \u001b[38;5;28;01mreturn\u001b[39;00m button\n",
      "\u001b[1;31mKeyboardInterrupt\u001b[0m: "
     ]
    }
   ],
   "source": [
    "#criação usuario tasy codigo teste\n",
    "\n",
    "from openpyxl import load_workbook\n",
    "import os\n",
    "from unidecode import unidecode\n",
    "import pyautogui as pagi\n",
    "import time\n",
    "from datetime import datetime\n",
    "\n",
    "nome_caminho_arquivo = \"C:\\\\Users\\\\6324102\\\\Documents\\\\GitHub\\\\teste1.xlsx\"\n",
    "planilha_aberta = load_workbook(filename = nome_caminho_arquivo)\n",
    "\n",
    "#seleciona a aba que tem as informações a serem passadas para o formulario\n",
    "sheet_selecionada = planilha_aberta['Planilha1']\n",
    "\n",
    "pagi.alert('Criação Usuario Tec Enfermagem Tasy')\n",
    "\n",
    "data = datetime.now().strftime('%Y-%m-%d')\n",
    "hora = datetime.now().strftime('%H:%M:%S')\n",
    "print('Criação Usuario Tec Enfermagem Tasy\\n\\nInicio', 'Data: ', data, '- Hora: ', hora)\n",
    "\n",
    "#+++++====================++++==============CAMPOS TASY\n",
    "campo_usuario_f = '/html/body/div[1]/tasy-corsisf1/div/w-mainlayout/div/div/feature-instance/corsisfo/div/tasypopupmenu/div/div/div/div/div/div/tasypopupmenu/tasy-wdbpanel/div/div[1]/tasy-wfilter/div/tasy-wmdetail/div[2]/div[3]/form/div/div[1]/div[2]/div[2]/tasy-wtextbox/div/div/input'\n",
    "botao_filtrar = '/html/body/div[1]/tasy-corsisf1/div/w-mainlayout/div/div/feature-instance/corsisfo/div/tasypopupmenu/div/div/div/div/div/div/tasypopupmenu/tasy-wdbpanel/div/div[1]/tasy-wfilter/div/div[2]/div/button'\n",
    "botão_funil_filtro = '/html/body/div[1]/tasy-corsisf1/div/w-mainlayout/div/div/feature-instance/corsisfo/div/tasypopupmenu/div/div/div/div/div/div/tasypopupmenu/tasy-wdbpanel/div/div[2]/div[4]/tasy-wlabel'\n",
    "botao_ver = '/html/body/div[1]/tasy-corsisf1/div/w-mainlayout/div/div/feature-instance/corsisfo/div/tasypopupmenu/div/div/div/div/div/div/tasypopupmenu/tasy-wdbpanel/div/div[2]/div[2]/tasy-handlebar-new/div/div[1]/div/button[9]/span'\n",
    "campo_do_usuario = '/html/body/div[1]/tasy-corsisf1/div/w-mainlayout/div/div/feature-instance/corsisfo/div/tasypopupmenu/div/div/div/div/div/div/tasypopupmenu/tasy-wdbpanel/div/div[2]/div[5]/div[1]/w-datagrid/div[3]/div/div[5]/div[3]/div'\n",
    "campo_funcionario_s = '/html/body/div[1]/tasy-corsisf1/div/w-mainlayout/div/div/feature-instance/corsisfo/div/tasypopupmenu/div/div/div/div/div/div/tasypopupmenu/tasy-wdbpanel/div/div[2]/div[4]/div[2]/tasy-wmdetail/div[2]/div[3]/form/div/div[10]/div[2]/div[2]/tasy-listbox/div'\n",
    "atributo_tec_enf = '/html/body/div[4]/div[2]/div[1]/div/a[22]/span'\n",
    "botao_salvar = '/html/body/div[1]/tasy-corsisf1/div/w-mainlayout/div/div/feature-instance/corsisfo/div/tasypopupmenu/div/div/div/div/div/div/tasypopupmenu/tasy-wdbpanel/div/div[2]/div[4]/div[2]/tasy-wmdetail/div[2]/div[3]/form/w-persistence-action-bar/w-persistence-action-bar-button[1]/tasy-wbutton/div'\n",
    "\n",
    "\n",
    "\n",
    "for linha in range(2, len(sheet_selecionada['A']) +1):\n",
    "    \n",
    "    #pega a informação dentro da planilha\n",
    "    matricula2 = sheet_selecionada['A%s' % linha].value\n",
    "    nome2 = sheet_selecionada['B%s' % linha].value\n",
    "    cargo2 = sheet_selecionada['C%s' % linha].value\n",
    "    \n",
    "    matricula = str(matricula2)\n",
    "    nome = unidecode(str(nome2))\n",
    "    cargo = unidecode(str(cargo2))\n",
    "    \n",
    "    #PREENCHE O CAMPO USUARIO COM A MATRICULA DO COLABORADOR\n",
    "    time.sleep(1)\n",
    "    meuNavegador.find_element(By.XPATH, campo_usuario_f).clear()\n",
    "    time.sleep(1)\n",
    "    meuNavegador.find_element(By.XPATH, campo_usuario_f).send_keys(matricula)\n",
    "    time.sleep(1)\n",
    "    \n",
    "    #CLICA NO BOTÃO FILTRAR\n",
    "    time.sleep(2)\n",
    "    meuNavegador.find_element(By.XPATH, botao_filtrar).click()\n",
    "    time.sleep(1)\n",
    "    \n",
    "    #VERIFICA SE O BOTÃO \"VER\" ESTA NA TELA\n",
    "    if meuNavegador.find_element(By.XPATH, botao_ver).is_displayed() == False:\n",
    "\n",
    "        #CLICAR NO FUNIL FILTRO\n",
    "        time.sleep(2)\n",
    "        meuNavegador.find_element(By.XPATH, botão_funil_filtro).click()\n",
    "        time.sleep(1)\n",
    "       \n",
    "        print('Colaborador não cadastrado')\n",
    "        print('linha: ', linha)\n",
    "        print('matricula: ',matricula)\n",
    "        print('nome: ',nome)\n",
    "        print('cargo: ', cargo)\n",
    "        print('___________===============_________________=============__________\\n')\n",
    "        \n",
    "        dict_nao_cadastrados[linha] = [(matricula, nome, cargo)]\n",
    "        continue\n",
    "    \n",
    "    #CLICA NO BOTÃO VER\n",
    "    time.sleep(2)\n",
    "    meuNavegador.find_element(By.XPATH, botao_ver).click()\n",
    "    time.sleep(1)\n",
    "    \n",
    "    #CLICA CAMPO  \"FUNÇÃO PARA EVOLUÇÃO / PRESCRIÇÃO\"\n",
    "    time.sleep(2)\n",
    "    meuNavegador.find_element(By.XPATH, campo_funcionario_s).click()\n",
    "    time.sleep(1)\n",
    "    \n",
    "    #CLICA NA OPÇÃO TÉCNICO DE ENFERMAGEM\n",
    "    time.sleep(2)\n",
    "    meuNavegador.find_element(By.XPATH, atributo_tec_enf).click()\n",
    "    time.sleep(1)\n",
    "    \n",
    "#     #CLICA EM SALVAR\n",
    "#     time.sleep(2)\n",
    "#     meuNavegador.find_element(By.XPATH, botao_salvar).click()\n",
    "#     time.sleep(1)\n",
    "    \n",
    "#     #CLICAR NO FUNIL FILTRO\n",
    "#     time.sleep(2)\n",
    "#     meuNavegador.find_element(By.XPATH, botao_filtrar).click()\n",
    "#     time.sleep(1)\"\n",
    "    \n",
    "#--------------------------------------------------------|=Printar o nome/matricula do usuario criado=|------------------\n",
    "    print('linha: ', linha) \n",
    "    print('matricula: ',matricula)\n",
    "    print('nome: ', nome)\n",
    "    print('cargo: ', cargo)\n",
    "    print('___________===============_________________=============__________\\n')\n",
    "    \n",
    "data = datetime.now().strftime('%Y-%m-%d')\n",
    "hora = datetime.now().strftime('%H:%M:%S')\n",
    "print('\\nCriação Usuario Tec Enfermagem Tasy\\n\\nFinalizado', 'Data: ', data, '- Hora: ', hora)\n",
    "pagi.alert('Finalizado')"
   ]
  },
  {
   "cell_type": "code",
   "execution_count": 23,
   "id": "4bfaaca6",
   "metadata": {},
   "outputs": [],
   "source": [
    "#INICIALIZANDO O DICIONARIO ONDE IRÁ FICAR OS USUARIOS NÃO CADASTRADOS\n",
    "dict_nao_cadastrados = {}"
   ]
  },
  {
   "cell_type": "code",
   "execution_count": 24,
   "id": "bb28684d",
   "metadata": {},
   "outputs": [
    {
     "data": {
      "text/plain": [
       "{}"
      ]
     },
     "execution_count": 24,
     "metadata": {},
     "output_type": "execute_result"
    }
   ],
   "source": [
    "dict_nao_cadastrados"
   ]
  },
  {
   "cell_type": "code",
   "execution_count": null,
   "id": "b2cbe0bd",
   "metadata": {},
   "outputs": [],
   "source": []
  }
 ],
 "metadata": {
  "kernelspec": {
   "display_name": "Python 3 (ipykernel)",
   "language": "python",
   "name": "python3"
  },
  "language_info": {
   "codemirror_mode": {
    "name": "ipython",
    "version": 3
   },
   "file_extension": ".py",
   "mimetype": "text/x-python",
   "name": "python",
   "nbconvert_exporter": "python",
   "pygments_lexer": "ipython3",
   "version": "3.9.12"
  }
 },
 "nbformat": 4,
 "nbformat_minor": 5
}
