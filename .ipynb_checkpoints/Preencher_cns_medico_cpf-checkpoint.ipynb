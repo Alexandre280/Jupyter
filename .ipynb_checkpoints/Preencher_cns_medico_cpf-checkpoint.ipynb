{
 "cells": [
  {
   "cell_type": "markdown",
   "id": "aa400780",
   "metadata": {},
   "source": [
    "# ABRE NAVEGADOR E NO TASY"
   ]
  },
  {
   "cell_type": "code",
   "execution_count": 3,
   "id": "553dcb54",
   "metadata": {},
   "outputs": [],
   "source": [
    "from selenium import webdriver as opções_selenium_aula\n",
    "from selenium.webdriver.common.keys import Keys\n",
    "from selenium.webdriver.common.by import By\n",
    "import pyautogui as pagi\n",
    "from openpyxl import load_workbook\n",
    "import os\n",
    "from unidecode import unidecode\n",
    "import time\n",
    "from datetime import datetime\n",
    "\n",
    "meuNavegador = opções_selenium_aula.Chrome()\n",
    "meuNavegador.get('http://tasyweb.spdmafiliadas.org.br/#/')"
   ]
  },
  {
   "cell_type": "markdown",
   "id": "5a0aa2a1",
   "metadata": {},
   "source": [
    "# EXECUTA PROCEDIMENTO NO TASY"
   ]
  },
  {
   "cell_type": "code",
   "execution_count": 9,
   "id": "1b610457",
   "metadata": {},
   "outputs": [
    {
     "name": "stdout",
     "output_type": "stream",
     "text": [
      "Preenchendo cns medico\n",
      "\n",
      "Inicio Data:  2022-09-05 - Hora:  11:02:24\n"
     ]
    },
    {
     "ename": "ElementNotInteractableException",
     "evalue": "Message: element not interactable\n  (Session info: chrome=103.0.5060.114)\nStacktrace:\nBacktrace:\n\tOrdinal0 [0x011B6463+2188387]\n\tOrdinal0 [0x0114E461+1762401]\n\tOrdinal0 [0x01063C40+801856]\n\tOrdinal0 [0x0108A12D+958765]\n\tOrdinal0 [0x010AC7DC+1099740]\n\tOrdinal0 [0x01087FF4+950260]\n\tOrdinal0 [0x010AC9F4+1100276]\n\tOrdinal0 [0x010BCC22+1166370]\n\tOrdinal0 [0x010AC5F6+1099254]\n\tOrdinal0 [0x01086BE0+945120]\n\tOrdinal0 [0x01087AD6+948950]\n\tGetHandleVerifier [0x014571F2+2712546]\n\tGetHandleVerifier [0x0144886D+2652765]\n\tGetHandleVerifier [0x0124002A+520730]\n\tGetHandleVerifier [0x0123EE06+516086]\n\tOrdinal0 [0x0115468B+1787531]\n\tOrdinal0 [0x01158E88+1805960]\n\tOrdinal0 [0x01158F75+1806197]\n\tOrdinal0 [0x01161DF1+1842673]\n\tBaseThreadInitThunk [0x7661FA29+25]\n\tRtlGetAppContainerNamedObjectPath [0x77977A9E+286]\n\tRtlGetAppContainerNamedObjectPath [0x77977A6E+238]\n",
     "output_type": "error",
     "traceback": [
      "\u001b[1;31m---------------------------------------------------------------------------\u001b[0m",
      "\u001b[1;31mElementNotInteractableException\u001b[0m           Traceback (most recent call last)",
      "Input \u001b[1;32mIn [9]\u001b[0m, in \u001b[0;36m<cell line: 26>\u001b[1;34m()\u001b[0m\n\u001b[0;32m     39\u001b[0m \u001b[38;5;66;03m#PREENCHE O CAMPO CODIGO COM O CODIGO DE PESSOA FISICA\u001b[39;00m\n\u001b[0;32m     40\u001b[0m time\u001b[38;5;241m.\u001b[39msleep(\u001b[38;5;241m1\u001b[39m)\n\u001b[1;32m---> 41\u001b[0m \u001b[43mmeuNavegador\u001b[49m\u001b[38;5;241;43m.\u001b[39;49m\u001b[43mfind_element\u001b[49m\u001b[43m(\u001b[49m\u001b[43mBy\u001b[49m\u001b[38;5;241;43m.\u001b[39;49m\u001b[43mXPATH\u001b[49m\u001b[43m,\u001b[49m\u001b[43m \u001b[49m\u001b[43mcampo_cpf\u001b[49m\u001b[43m)\u001b[49m\u001b[38;5;241;43m.\u001b[39;49m\u001b[43mclear\u001b[49m\u001b[43m(\u001b[49m\u001b[43m)\u001b[49m\n\u001b[0;32m     42\u001b[0m time\u001b[38;5;241m.\u001b[39msleep(\u001b[38;5;241m1\u001b[39m)\n\u001b[0;32m     43\u001b[0m meuNavegador\u001b[38;5;241m.\u001b[39mfind_element(By\u001b[38;5;241m.\u001b[39mXPATH, campo_cpf)\u001b[38;5;241m.\u001b[39msend_keys(cpf)\n",
      "File \u001b[1;32m~\\Anaconda3\\lib\\site-packages\\selenium\\webdriver\\remote\\webelement.py:109\u001b[0m, in \u001b[0;36mWebElement.clear\u001b[1;34m(self)\u001b[0m\n\u001b[0;32m    107\u001b[0m \u001b[38;5;28;01mdef\u001b[39;00m \u001b[38;5;21mclear\u001b[39m(\u001b[38;5;28mself\u001b[39m) \u001b[38;5;241m-\u001b[39m\u001b[38;5;241m>\u001b[39m \u001b[38;5;28;01mNone\u001b[39;00m:\n\u001b[0;32m    108\u001b[0m     \u001b[38;5;124;03m\"\"\"Clears the text if it's a text entry element.\"\"\"\u001b[39;00m\n\u001b[1;32m--> 109\u001b[0m     \u001b[38;5;28;43mself\u001b[39;49m\u001b[38;5;241;43m.\u001b[39;49m\u001b[43m_execute\u001b[49m\u001b[43m(\u001b[49m\u001b[43mCommand\u001b[49m\u001b[38;5;241;43m.\u001b[39;49m\u001b[43mCLEAR_ELEMENT\u001b[49m\u001b[43m)\u001b[49m\n",
      "File \u001b[1;32m~\\Anaconda3\\lib\\site-packages\\selenium\\webdriver\\remote\\webelement.py:396\u001b[0m, in \u001b[0;36mWebElement._execute\u001b[1;34m(self, command, params)\u001b[0m\n\u001b[0;32m    394\u001b[0m     params \u001b[38;5;241m=\u001b[39m {}\n\u001b[0;32m    395\u001b[0m params[\u001b[38;5;124m'\u001b[39m\u001b[38;5;124mid\u001b[39m\u001b[38;5;124m'\u001b[39m] \u001b[38;5;241m=\u001b[39m \u001b[38;5;28mself\u001b[39m\u001b[38;5;241m.\u001b[39m_id\n\u001b[1;32m--> 396\u001b[0m \u001b[38;5;28;01mreturn\u001b[39;00m \u001b[38;5;28;43mself\u001b[39;49m\u001b[38;5;241;43m.\u001b[39;49m\u001b[43m_parent\u001b[49m\u001b[38;5;241;43m.\u001b[39;49m\u001b[43mexecute\u001b[49m\u001b[43m(\u001b[49m\u001b[43mcommand\u001b[49m\u001b[43m,\u001b[49m\u001b[43m \u001b[49m\u001b[43mparams\u001b[49m\u001b[43m)\u001b[49m\n",
      "File \u001b[1;32m~\\Anaconda3\\lib\\site-packages\\selenium\\webdriver\\remote\\webdriver.py:435\u001b[0m, in \u001b[0;36mWebDriver.execute\u001b[1;34m(self, driver_command, params)\u001b[0m\n\u001b[0;32m    433\u001b[0m response \u001b[38;5;241m=\u001b[39m \u001b[38;5;28mself\u001b[39m\u001b[38;5;241m.\u001b[39mcommand_executor\u001b[38;5;241m.\u001b[39mexecute(driver_command, params)\n\u001b[0;32m    434\u001b[0m \u001b[38;5;28;01mif\u001b[39;00m response:\n\u001b[1;32m--> 435\u001b[0m     \u001b[38;5;28;43mself\u001b[39;49m\u001b[38;5;241;43m.\u001b[39;49m\u001b[43merror_handler\u001b[49m\u001b[38;5;241;43m.\u001b[39;49m\u001b[43mcheck_response\u001b[49m\u001b[43m(\u001b[49m\u001b[43mresponse\u001b[49m\u001b[43m)\u001b[49m\n\u001b[0;32m    436\u001b[0m     response[\u001b[38;5;124m'\u001b[39m\u001b[38;5;124mvalue\u001b[39m\u001b[38;5;124m'\u001b[39m] \u001b[38;5;241m=\u001b[39m \u001b[38;5;28mself\u001b[39m\u001b[38;5;241m.\u001b[39m_unwrap_value(\n\u001b[0;32m    437\u001b[0m         response\u001b[38;5;241m.\u001b[39mget(\u001b[38;5;124m'\u001b[39m\u001b[38;5;124mvalue\u001b[39m\u001b[38;5;124m'\u001b[39m, \u001b[38;5;28;01mNone\u001b[39;00m))\n\u001b[0;32m    438\u001b[0m     \u001b[38;5;28;01mreturn\u001b[39;00m response\n",
      "File \u001b[1;32m~\\Anaconda3\\lib\\site-packages\\selenium\\webdriver\\remote\\errorhandler.py:247\u001b[0m, in \u001b[0;36mErrorHandler.check_response\u001b[1;34m(self, response)\u001b[0m\n\u001b[0;32m    245\u001b[0m         alert_text \u001b[38;5;241m=\u001b[39m value[\u001b[38;5;124m'\u001b[39m\u001b[38;5;124malert\u001b[39m\u001b[38;5;124m'\u001b[39m]\u001b[38;5;241m.\u001b[39mget(\u001b[38;5;124m'\u001b[39m\u001b[38;5;124mtext\u001b[39m\u001b[38;5;124m'\u001b[39m)\n\u001b[0;32m    246\u001b[0m     \u001b[38;5;28;01mraise\u001b[39;00m exception_class(message, screen, stacktrace, alert_text)  \u001b[38;5;66;03m# type: ignore[call-arg]  # mypy is not smart enough here\u001b[39;00m\n\u001b[1;32m--> 247\u001b[0m \u001b[38;5;28;01mraise\u001b[39;00m exception_class(message, screen, stacktrace)\n",
      "\u001b[1;31mElementNotInteractableException\u001b[0m: Message: element not interactable\n  (Session info: chrome=103.0.5060.114)\nStacktrace:\nBacktrace:\n\tOrdinal0 [0x011B6463+2188387]\n\tOrdinal0 [0x0114E461+1762401]\n\tOrdinal0 [0x01063C40+801856]\n\tOrdinal0 [0x0108A12D+958765]\n\tOrdinal0 [0x010AC7DC+1099740]\n\tOrdinal0 [0x01087FF4+950260]\n\tOrdinal0 [0x010AC9F4+1100276]\n\tOrdinal0 [0x010BCC22+1166370]\n\tOrdinal0 [0x010AC5F6+1099254]\n\tOrdinal0 [0x01086BE0+945120]\n\tOrdinal0 [0x01087AD6+948950]\n\tGetHandleVerifier [0x014571F2+2712546]\n\tGetHandleVerifier [0x0144886D+2652765]\n\tGetHandleVerifier [0x0124002A+520730]\n\tGetHandleVerifier [0x0123EE06+516086]\n\tOrdinal0 [0x0115468B+1787531]\n\tOrdinal0 [0x01158E88+1805960]\n\tOrdinal0 [0x01158F75+1806197]\n\tOrdinal0 [0x01161DF1+1842673]\n\tBaseThreadInitThunk [0x7661FA29+25]\n\tRtlGetAppContainerNamedObjectPath [0x77977A9E+286]\n\tRtlGetAppContainerNamedObjectPath [0x77977A6E+238]\n"
     ]
    }
   ],
   "source": [
    "nome_caminho_arquivo = \"C:\\\\Users\\\\6324102\\\\Documents\\\\GitHub\\\\Python_Code\\\\Python Scripts\\\\Jupyter\\\\lista_usuarios_tasy\\\\CNS HMMDOLC-HSC_CPF-CONFIGURADO.xlsx\"\n",
    "planilha_aberta = load_workbook(filename = nome_caminho_arquivo)\n",
    "\n",
    "#seleciona a aba que tem as informações a serem passadas para o formulario\n",
    "sheet_selecionada = planilha_aberta['CNS']\n",
    "\n",
    "pagi.alert('Preenchendo cns função medico')\n",
    "\n",
    "data = datetime.now().strftime('%Y-%m-%d')\n",
    "hora = datetime.now().strftime('%H:%M:%S')\n",
    "print('Preenchendo cns medico\\n\\nInicio', 'Data: ', data, '- Hora: ', hora)\n",
    "\n",
    "#+++++====================++++==============CAMPOS TASY\n",
    "\n",
    "campo_codigo = '//*[@id=\"detail_4_container\"]/div[3]/div[2]/tasy-wtextboxlocator/div/div/div[1]/tasy-wtextbox/div/div/input'\n",
    "botao_filtrar = '//*[@id=\"app-view\"]/tasy-corsisf1/div/w-mainlayout/div/div/feature-instance/corpesf7/div/div[4]/div[2]/tasy-wfilter/div/div[2]/div/button'\n",
    "botao_ver = '//*[@id=\"layout\"]/div/div/tasypopupmenu/tasy-wdbpanel/div/div[2]/div[2]/tasy-handlebar-new/div/div[1]/div/button[9]/span'\n",
    "campo_cns = '//*[@id=\"detail_3_container\"]/div[3]/div[8]/div[2]/tasy-wtextbox/div/div/input'\n",
    "botao_salvar = '//*[@id=\"layout\"]/div/div/tasypopupmenu/tasy-wdbpanel/div/div[2]/div[4]/div[2]/tasy-wmdetail/div[2]/div[3]/form/w-persistence-action-bar/w-persistence-action-bar-button[1]/tasy-wbutton/div'\n",
    "botao_funil_filtro = '//*[@id=\"layout\"]/div/div/tasypopupmenu/tasy-wdbpanel/div/div[2]/div[4]/tasy-wlabel'\n",
    "botao_fechar = '//*[@id=\"layout\"]/div/div/tasypopupmenu/tasy-wdbpanel/div/div[2]/div[2]/tasy-handlebar-new/div/div[1]/div/button[10]'\n",
    "campo_cpf = '/html/body/div[1]/tasy-corsisf1/div/w-mainlayout/div/div/feature-instance/corpesf7/div/div[4]/div[2]/tasy-wfilter/div/tasy-wmdetail/div[2]/div[3]/form/div[1]/div[2]/div[2]/tasy-wtextbox/div/div/input'\n",
    "\n",
    "#+++++================++====+++==============\n",
    "\n",
    "for linha in range(2, len(sheet_selecionada['A']) +1):\n",
    "    \n",
    "#for linha in range(2,3):\n",
    "    \n",
    "    #pega a informação dentro da planilha\n",
    "    cpf2 = sheet_selecionada['A%s' % linha].value\n",
    "    nome2 = sheet_selecionada['B%s' % linha].value\n",
    "    cns2 = sheet_selecionada['C%s' % linha].value\n",
    "    \n",
    "    cpf = str(cpf2)\n",
    "    nome = unidecode(str(nome2))\n",
    "    cns = unidecode(str(cns2))\n",
    "    \n",
    "    #PREENCHE O CAMPO CODIGO COM O CODIGO DE PESSOA FISICA\n",
    "    time.sleep(1)\n",
    "    meuNavegador.find_element(By.XPATH, campo_cpf).clear()\n",
    "    time.sleep(1)\n",
    "    meuNavegador.find_element(By.XPATH, campo_cpf).send_keys(cpf)\n",
    "    time.sleep(1)\n",
    "    \n",
    "    #CLICA NO BOTÃO FILTRAR\n",
    "    time.sleep(2)\n",
    "    meuNavegador.find_element(By.XPATH, botao_filtrar).click()\n",
    "    time.sleep(1)\n",
    "    \n",
    "    #CLICA NO BOTÃO VER\n",
    "    time.sleep(2)\n",
    "    meuNavegador.find_element(By.XPATH, botao_ver).click()\n",
    "    time.sleep(1)\n",
    "    \n",
    "    #LIMPA E PREENCHE O CAMPO CNS COM O CNS DA PESSOA\n",
    "    time.sleep(1)\n",
    "    meuNavegador.find_element(By.XPATH, campo_cns).clear()\n",
    "    time.sleep(1)\n",
    "    meuNavegador.find_element(By.XPATH, campo_cns).send_keys(cns)\n",
    "    time.sleep(1)\n",
    "    \n",
    "    #CLICA EM SALVAR\n",
    "    time.sleep(2)\n",
    "    meuNavegador.find_element(By.XPATH, botao_salvar).click()\n",
    "    time.sleep(1)\n",
    "    \n",
    "    #CLICA EM FECHAR\n",
    "    time.sleep(2)\n",
    "    meuNavegador.find_element(By.XPATH, botao_fechar).click()\n",
    "    time.sleep(1)\n",
    "    \n",
    "    \n",
    "    #CLICAR NO FUNIL FILTRO\n",
    "    time.sleep(2)\n",
    "    meuNavegador.find_element(By.XPATH, botao_funil_filtro).click()\n",
    "    time.sleep(1)\n",
    "    \n",
    "    \n",
    "    print('linha: ', linha)\n",
    "    print('Pessoa Fisica: ',cpf)\n",
    "    print('nome: ',nome)\n",
    "    print('cns: ', cns)\n",
    "    print('___________===============_________________=============__________\\n')\n",
    "\n",
    "data = datetime.now().strftime('%Y-%m-%d')\n",
    "hora = datetime.now().strftime('%H:%M:%S')\n",
    "print('\\nPreenchendo cns medico\\n\\nFinalizado', 'Data: ', data, '- Hora: ', hora)\n",
    "pagi.alert('Finalizado')"
   ]
  },
  {
   "cell_type": "code",
   "execution_count": 52,
   "id": "8deddaf5",
   "metadata": {},
   "outputs": [
    {
     "name": "stdout",
     "output_type": "stream",
     "text": [
      "False\n"
     ]
    }
   ],
   "source": [
    "check_Cc = '//*[@id=\"wid_46\"]'\n",
    "campo_corpo_clinico = '//*[@id=\"detail_5_container\"]/div[7]/div[3]/div[2]/div/div'\n",
    "\n",
    "check = meuNavegador.find_element(By.XPATH, check_Cc).is_selected()\n",
    "\n",
    "print('{}'.format(check))\n",
    "\n",
    "if check == False:\n",
    "    meuNavegador.find_element(By.XPATH, campo_corpo_clinico).click()\n"
   ]
  },
  {
   "cell_type": "code",
   "execution_count": 1,
   "id": "e679b383",
   "metadata": {},
   "outputs": [
    {
     "data": {
      "text/plain": [
       "[10, 9, 8, 7, 6, 5, 4, 3, 2]"
      ]
     },
     "execution_count": 1,
     "metadata": {},
     "output_type": "execute_result"
    }
   ],
   "source": [
    "list(range(10,1,-1))"
   ]
  },
  {
   "cell_type": "code",
   "execution_count": null,
   "id": "786a6aec",
   "metadata": {},
   "outputs": [],
   "source": []
  }
 ],
 "metadata": {
  "kernelspec": {
   "display_name": "Python 3 (ipykernel)",
   "language": "python",
   "name": "python3"
  },
  "language_info": {
   "codemirror_mode": {
    "name": "ipython",
    "version": 3
   },
   "file_extension": ".py",
   "mimetype": "text/x-python",
   "name": "python",
   "nbconvert_exporter": "python",
   "pygments_lexer": "ipython3",
   "version": "3.9.12"
  }
 },
 "nbformat": 4,
 "nbformat_minor": 5
}
