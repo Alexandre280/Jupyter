{
 "cells": [
  {
   "cell_type": "code",
   "execution_count": 1,
   "id": "e83d32ae",
   "metadata": {},
   "outputs": [
    {
     "ename": "SyntaxError",
     "evalue": "invalid syntax (Temp/ipykernel_3712/246011100.py, line 58)",
     "output_type": "error",
     "traceback": [
      "\u001b[1;36m  File \u001b[1;32m\"C:\\Users\\6324102\\AppData\\Local\\Temp/ipykernel_3712/246011100.py\"\u001b[1;36m, line \u001b[1;32m58\u001b[0m\n\u001b[1;33m    //*[@id=\"lpresult\"]/div[2]/p\u001b[0m\n\u001b[1;37m    ^\u001b[0m\n\u001b[1;31mSyntaxError\u001b[0m\u001b[1;31m:\u001b[0m invalid syntax\n"
     ]
    }
   ],
   "source": [
    "# test para finalizar\n",
    "\n",
    "#criação usuario tasy codigo teste\n",
    "\n",
    "from openpyxl import load_workbook\n",
    "import os\n",
    "from unidecode import unidecode\n",
    "import pyautogui as pagi\n",
    "import time\n",
    "from datetime import datetime\n",
    "\n",
    "\n",
    "nome_caminho_arquivo = \"C:\\\\Users\\\\6324102\\Documents\\Alexandre\\PYTHON AUTOMATIZAÇÃO\\Jupyter\\lista_usuarios_tasy\\\\medicos_pj.xlsx\"\n",
    "planilha_aberta = load_workbook(filename = nome_caminho_arquivo)\n",
    "\n",
    "#seleciona a aba que tem as informações a serem passadas para o formulario\n",
    "sheet_selecionada = planilha_aberta['Planilha1']\n",
    "\n",
    "pagi.alert('Criação Usuario Emfermeiro Tasy')\n",
    "\n",
    "data = datetime.now().strftime('%Y-%m-%d')\n",
    "hora = datetime.now().strftime('%H:%M:%S')\n",
    "print('Criação Usuario Medico Tasy\\n\\nInicio', 'Data: ', data, '- Hora: ', hora)\n",
    "\n",
    "for linha in range(1, len(sheet_selecionada['A']) +1):\n",
    "\n",
    "    #pega a informação dentro da planilha\n",
    "    matricula2 = sheet_selecionada['A%s' % linha].value\n",
    "    nome2 = sheet_selecionada['B%s' % linha].value\n",
    "    \n",
    "    matricula = str(matricula2)\n",
    "    nome = unidecode(str(nome2))\n",
    "\n",
    "    \n",
    "    time.sleep(2)\n",
    "    #encontra campo chapa\n",
    "    pagi.moveTo(x=127, y=257)\n",
    "    time.sleep(1)\n",
    "    pagi.click()\n",
    "    time.sleep(1)\n",
    "    pagi.write(matricula)\n",
    "    time.sleep(1)\n",
    "    \n",
    "    \n",
    "    #clica campo gerar senha\n",
    "    pagi.moveTo(x=296, y=250)\n",
    "    time.sleep(1)\n",
    "    pagi.click()\n",
    "    time.sleep(1)\n",
    "    \n",
    "    #pegar senha gerada\n",
    "    pagi.moveTo(x=972, y=370)\n",
    "    time.sleep(1)\n",
    "    pagi.doubleClick()\n",
    "    time.sleep(1)\n",
    "    pagi.hotkey\n",
    "    \n",
    "    //*[@id=\"lpresult\"]/div[2]/p\n",
    "    \n",
    "    \n",
    "    \n",
    "    \n",
    "    \n",
    "    print('linha: ', linha)\n",
    "    print('matricula: ',matricula)\n",
    "    print('nome: ', nome)\n",
    "    print('nome: ', cpf)\n",
    "    print('___________===============_________________=============__________\\n')\n",
    "\n",
    "data = datetime.now().strftime('%Y-%m-%d')\n",
    "hora = datetime.now().strftime('%H:%M:%S')\n",
    "print('\\nCriação Usuario Emfermeiro Tasy\\n\\nFinalizado', 'Data: ', data, '- Hora: ', hora)\n",
    "pagi.alert('Finalizado')"
   ]
  },
  {
   "cell_type": "code",
   "execution_count": 13,
   "id": "9508f4ad",
   "metadata": {},
   "outputs": [
    {
     "data": {
      "text/plain": [
       "Point(x=972, y=370)"
      ]
     },
     "execution_count": 13,
     "metadata": {},
     "output_type": "execute_result"
    }
   ],
   "source": [
    "pagi.position()"
   ]
  },
  {
   "cell_type": "code",
   "execution_count": 14,
   "id": "3489796a",
   "metadata": {},
   "outputs": [
    {
     "name": "stdout",
     "output_type": "stream",
     "text": [
      "Criação Usuario Medico Tasy\n",
      "\n",
      "Inicio Data:  2022-06-27 - Hora:  17:38:47\n"
     ]
    },
    {
     "ename": "FailSafeException",
     "evalue": "PyAutoGUI fail-safe triggered from mouse moving to a corner of the screen. To disable this fail-safe, set pyautogui.FAILSAFE to False. DISABLING FAIL-SAFE IS NOT RECOMMENDED.",
     "output_type": "error",
     "traceback": [
      "\u001b[1;31m---------------------------------------------------------------------------\u001b[0m",
      "\u001b[1;31mFailSafeException\u001b[0m                         Traceback (most recent call last)",
      "\u001b[1;32m~\\AppData\\Local\\Temp/ipykernel_3712/549682845.py\u001b[0m in \u001b[0;36m<module>\u001b[1;34m\u001b[0m\n\u001b[0;32m     40\u001b[0m     \u001b[0mtime\u001b[0m\u001b[1;33m.\u001b[0m\u001b[0msleep\u001b[0m\u001b[1;33m(\u001b[0m\u001b[1;36m2\u001b[0m\u001b[1;33m)\u001b[0m\u001b[1;33m\u001b[0m\u001b[1;33m\u001b[0m\u001b[0m\n\u001b[0;32m     41\u001b[0m     \u001b[1;31m#encontra campo usuario\u001b[0m\u001b[1;33m\u001b[0m\u001b[1;33m\u001b[0m\u001b[0m\n\u001b[1;32m---> 42\u001b[1;33m     \u001b[0mpagi\u001b[0m\u001b[1;33m.\u001b[0m\u001b[0mmoveTo\u001b[0m\u001b[1;33m(\u001b[0m\u001b[0mx\u001b[0m\u001b[1;33m=\u001b[0m\u001b[1;36m47\u001b[0m\u001b[1;33m,\u001b[0m \u001b[0my\u001b[0m\u001b[1;33m=\u001b[0m\u001b[1;36m278\u001b[0m\u001b[1;33m)\u001b[0m\u001b[1;33m\u001b[0m\u001b[1;33m\u001b[0m\u001b[0m\n\u001b[0m\u001b[0;32m     43\u001b[0m     \u001b[0mtime\u001b[0m\u001b[1;33m.\u001b[0m\u001b[0msleep\u001b[0m\u001b[1;33m(\u001b[0m\u001b[1;36m1.5\u001b[0m\u001b[1;33m)\u001b[0m\u001b[1;33m\u001b[0m\u001b[1;33m\u001b[0m\u001b[0m\n\u001b[0;32m     44\u001b[0m     \u001b[0mpagi\u001b[0m\u001b[1;33m.\u001b[0m\u001b[0mclick\u001b[0m\u001b[1;33m(\u001b[0m\u001b[1;33m)\u001b[0m\u001b[1;33m\u001b[0m\u001b[1;33m\u001b[0m\u001b[0m\n",
      "\u001b[1;32mC:\\ProgramData\\Anaconda3\\lib\\site-packages\\pyautogui\\__init__.py\u001b[0m in \u001b[0;36mwrapper\u001b[1;34m(*args, **kwargs)\u001b[0m\n\u001b[0;32m    595\u001b[0m     \u001b[1;33m@\u001b[0m\u001b[0mfunctools\u001b[0m\u001b[1;33m.\u001b[0m\u001b[0mwraps\u001b[0m\u001b[1;33m(\u001b[0m\u001b[0mwrappedFunction\u001b[0m\u001b[1;33m)\u001b[0m\u001b[1;33m\u001b[0m\u001b[1;33m\u001b[0m\u001b[0m\n\u001b[0;32m    596\u001b[0m     \u001b[1;32mdef\u001b[0m \u001b[0mwrapper\u001b[0m\u001b[1;33m(\u001b[0m\u001b[1;33m*\u001b[0m\u001b[0margs\u001b[0m\u001b[1;33m,\u001b[0m \u001b[1;33m**\u001b[0m\u001b[0mkwargs\u001b[0m\u001b[1;33m)\u001b[0m\u001b[1;33m:\u001b[0m\u001b[1;33m\u001b[0m\u001b[1;33m\u001b[0m\u001b[0m\n\u001b[1;32m--> 597\u001b[1;33m         \u001b[0mfailSafeCheck\u001b[0m\u001b[1;33m(\u001b[0m\u001b[1;33m)\u001b[0m\u001b[1;33m\u001b[0m\u001b[1;33m\u001b[0m\u001b[0m\n\u001b[0m\u001b[0;32m    598\u001b[0m         \u001b[0mreturnVal\u001b[0m \u001b[1;33m=\u001b[0m \u001b[0mwrappedFunction\u001b[0m\u001b[1;33m(\u001b[0m\u001b[1;33m*\u001b[0m\u001b[0margs\u001b[0m\u001b[1;33m,\u001b[0m \u001b[1;33m**\u001b[0m\u001b[0mkwargs\u001b[0m\u001b[1;33m)\u001b[0m\u001b[1;33m\u001b[0m\u001b[1;33m\u001b[0m\u001b[0m\n\u001b[0;32m    599\u001b[0m         \u001b[0m_handlePause\u001b[0m\u001b[1;33m(\u001b[0m\u001b[0mkwargs\u001b[0m\u001b[1;33m.\u001b[0m\u001b[0mget\u001b[0m\u001b[1;33m(\u001b[0m\u001b[1;34m\"_pause\"\u001b[0m\u001b[1;33m,\u001b[0m \u001b[1;32mTrue\u001b[0m\u001b[1;33m)\u001b[0m\u001b[1;33m)\u001b[0m\u001b[1;33m\u001b[0m\u001b[1;33m\u001b[0m\u001b[0m\n",
      "\u001b[1;32mC:\\ProgramData\\Anaconda3\\lib\\site-packages\\pyautogui\\__init__.py\u001b[0m in \u001b[0;36mfailSafeCheck\u001b[1;34m()\u001b[0m\n\u001b[0;32m   1720\u001b[0m \u001b[1;32mdef\u001b[0m \u001b[0mfailSafeCheck\u001b[0m\u001b[1;33m(\u001b[0m\u001b[1;33m)\u001b[0m\u001b[1;33m:\u001b[0m\u001b[1;33m\u001b[0m\u001b[1;33m\u001b[0m\u001b[0m\n\u001b[0;32m   1721\u001b[0m     \u001b[1;32mif\u001b[0m \u001b[0mFAILSAFE\u001b[0m \u001b[1;32mand\u001b[0m \u001b[0mtuple\u001b[0m\u001b[1;33m(\u001b[0m\u001b[0mposition\u001b[0m\u001b[1;33m(\u001b[0m\u001b[1;33m)\u001b[0m\u001b[1;33m)\u001b[0m \u001b[1;32min\u001b[0m \u001b[0mFAILSAFE_POINTS\u001b[0m\u001b[1;33m:\u001b[0m\u001b[1;33m\u001b[0m\u001b[1;33m\u001b[0m\u001b[0m\n\u001b[1;32m-> 1722\u001b[1;33m         raise FailSafeException(\n\u001b[0m\u001b[0;32m   1723\u001b[0m             \u001b[1;34m\"PyAutoGUI fail-safe triggered from mouse moving to a corner of the screen. To disable this fail-safe, set pyautogui.FAILSAFE to False. DISABLING FAIL-SAFE IS NOT RECOMMENDED.\"\u001b[0m\u001b[1;33m\u001b[0m\u001b[1;33m\u001b[0m\u001b[0m\n\u001b[0;32m   1724\u001b[0m         )\n",
      "\u001b[1;31mFailSafeException\u001b[0m: PyAutoGUI fail-safe triggered from mouse moving to a corner of the screen. To disable this fail-safe, set pyautogui.FAILSAFE to False. DISABLING FAIL-SAFE IS NOT RECOMMENDED."
     ]
    }
   ],
   "source": [
    "# test para finalizar\n",
    "\n",
    "#criação usuario tasy codigo teste\n",
    "\n",
    "from openpyxl import load_workbook\n",
    "import os\n",
    "from unidecode import unidecode\n",
    "import pyautogui as pagi\n",
    "import time\n",
    "from datetime import datetime\n",
    "\n",
    "\n",
    "nome_caminho_arquivo = \"C:\\\\Users\\\\6324102\\Documents\\Alexandre\\PYTHON AUTOMATIZAÇÃO\\Jupyter\\lista_usuarios_tasy\\\\medicos_pj.xlsx\"\n",
    "planilha_aberta = load_workbook(filename = nome_caminho_arquivo)\n",
    "\n",
    "#seleciona a aba que tem as informações a serem passadas para o formulario\n",
    "sheet_selecionada = planilha_aberta['Planilha1']\n",
    "\n",
    "pagi.alert('Criação Usuario Emfermeiro Tasy')\n",
    "\n",
    "data = datetime.now().strftime('%Y-%m-%d')\n",
    "hora = datetime.now().strftime('%H:%M:%S')\n",
    "print('Criação Usuario Medico Tasy\\n\\nInicio', 'Data: ', data, '- Hora: ', hora)\n",
    "\n",
    "for linha in range(1, len(sheet_selecionada['A']) +1):\n",
    "\n",
    "    #pega a informação dentro da planilha\n",
    "    matricula2 = sheet_selecionada['B%s' % linha].value\n",
    "    nome2 = sheet_selecionada['A%s' % linha].value\n",
    "    cpf2 = sheet_selecionada['B%s' % linha].value\n",
    "\n",
    "    #escreve a informação na tela\n",
    "    #print(matricula)\n",
    "    #print(unidecode(str(nome)))\n",
    "    \n",
    "    matricula = str(matricula2)\n",
    "    nome = unidecode(str(nome2))\n",
    "    cpf = str(cpf2)\n",
    "    \n",
    "    time.sleep(2)\n",
    "    #encontra campo usuario\n",
    "    pagi.moveTo(x=47, y=278)\n",
    "    time.sleep(1.5)\n",
    "    pagi.click()\n",
    "    \n",
    "    #campo usuario\n",
    "    pagi.moveTo(x=415, y=246)\n",
    "    time.sleep(1.5)\n",
    "    pagi.click()\n",
    "    time.sleep(1)\n",
    "    pagi.hotkey('ctrlleft', 'a')\n",
    "    time.sleep(0.5)\n",
    "    pagi.press('backspace')\n",
    "    time.sleep(1)\n",
    "    pagi.write(matricula)\n",
    "    time.sleep(1)\n",
    "    \n",
    "    #encontra campo filtrar\n",
    "    pagi.moveTo(418, 775)\n",
    "    time.sleep(1.5)\n",
    "    pagi.click()\n",
    "    time.sleep(1)\n",
    "    \n",
    "    #ver usuario \n",
    "    pagi.moveTo(x=1542, y=222)\n",
    "    time.sleep(1.5)\n",
    "    pagi.click()\n",
    "    time.sleep(3)\n",
    "    \n",
    "    #encontrar pessoa\n",
    "    pagi.moveTo(x=1530, y=480)\n",
    "    time.sleep(1)\n",
    "    pagi.click()\n",
    "    time.sleep(2)\n",
    "    \n",
    "    #alterar campo para CPF\n",
    "    pagi.moveTo(x=322, y=245)\n",
    "    time.sleep(1)\n",
    "    pagi.click()\n",
    "    time.sleep(1.5)\n",
    "    pagi.press('n')\n",
    "    time.sleep(1.5)\n",
    "    pagi.press('down')\n",
    "    time.sleep(1.5)\n",
    "    pagi.press('enter')\n",
    "    time.sleep(1.5)\n",
    "    \n",
    "    #escrever cpf\n",
    "    pagi.moveTo(x=272, y=332)\n",
    "    time.sleep(1)\n",
    "    pagi.click()\n",
    "    time.sleep(1)\n",
    "    pagi.write(cpf)\n",
    "    time.sleep(1)\n",
    "    \n",
    "    #filtrar / confirmar pessoa\n",
    "    pagi.moveTo(x=464, y=765)\n",
    "    time.sleep(1)\n",
    "    pagi.click()\n",
    "    time.sleep(2)\n",
    "    pagi.moveTo(x=1511, y=763) #encontra botão OK\n",
    "    time.sleep(1)\n",
    "    pagi.click()\n",
    "    time.sleep(1)\n",
    "    \n",
    "    #salvar\n",
    "    pagi.moveTo(x=1515, y=766)\n",
    "    time.sleep(1)\n",
    "    pagi.click()\n",
    "    time.sleep(2)\n",
    "    \n",
    "    print('linha: ', linha)\n",
    "    print('matricula: ',matricula)\n",
    "    print('nome: ', nome)\n",
    "    print('nome: ', cpf)\n",
    "    print('___________===============_________________=============__________\\n')\n",
    "\n",
    "data = datetime.now().strftime('%Y-%m-%d')\n",
    "hora = datetime.now().strftime('%H:%M:%S')\n",
    "print('\\nCriação Usuario Emfermeiro Tasy\\n\\nFinalizado', 'Data: ', data, '- Hora: ', hora)\n",
    "pagi.alert('Finalizado')"
   ]
  },
  {
   "cell_type": "code",
   "execution_count": 12,
   "id": "aca47f10",
   "metadata": {},
   "outputs": [
    {
     "data": {
      "text/plain": [
       "Point(x=1515, y=766)"
      ]
     },
     "execution_count": 12,
     "metadata": {},
     "output_type": "execute_result"
    }
   ],
   "source": [
    "pagi.position()"
   ]
  },
  {
   "cell_type": "code",
   "execution_count": 21,
   "id": "9974598a",
   "metadata": {},
   "outputs": [],
   "source": [
    "from selenium import webdriver\n",
    "\n",
    "abrirNavegador = webdriver.Chrome()\n",
    "\n",
    "abrirNavegador.get(\"http://site.spdmafiliadas.org.br/gerarsenham/vcadastro3.php\")"
   ]
  },
  {
   "cell_type": "code",
   "execution_count": 101,
   "id": "fcc7808d",
   "metadata": {},
   "outputs": [
    {
     "name": "stdout",
     "output_type": "stream",
     "text": [
      "Criação Usuario Medico Tasy\n",
      "\n",
      "Inicio Data:  2022-06-21 - Hora:  11:19:15\n",
      "NOME COMPLETO:RODRIGO SALES INOCENTE - SENHA: 9e23e5\n"
     ]
    },
    {
     "ename": "AttributeError",
     "evalue": "'Worksheet' object has no attribute 'write'",
     "output_type": "error",
     "traceback": [
      "\u001b[1;31m---------------------------------------------------------------------------\u001b[0m",
      "\u001b[1;31mAttributeError\u001b[0m                            Traceback (most recent call last)",
      "\u001b[1;32m~\\AppData\\Local\\Temp/ipykernel_7336/2714417181.py\u001b[0m in \u001b[0;36m<module>\u001b[1;34m\u001b[0m\n\u001b[0;32m     66\u001b[0m     \u001b[0mpega_senha\u001b[0m \u001b[1;33m=\u001b[0m \u001b[0mstr\u001b[0m\u001b[1;33m(\u001b[0m\u001b[0mpega_senha\u001b[0m\u001b[1;33m)\u001b[0m\u001b[1;33m\u001b[0m\u001b[1;33m\u001b[0m\u001b[0m\n\u001b[0;32m     67\u001b[0m \u001b[1;33m\u001b[0m\u001b[0m\n\u001b[1;32m---> 68\u001b[1;33m     \u001b[0msheet_selecionada\u001b[0m\u001b[1;33m.\u001b[0m\u001b[0mwrite\u001b[0m\u001b[1;33m(\u001b[0m\u001b[1;34m'C'\u001b[0m \u001b[1;33m+\u001b[0m \u001b[0mstr\u001b[0m\u001b[1;33m(\u001b[0m\u001b[0mlinha\u001b[0m\u001b[1;33m)\u001b[0m\u001b[1;33m,\u001b[0m \u001b[0mpega_senha\u001b[0m\u001b[1;33m)\u001b[0m\u001b[1;33m\u001b[0m\u001b[1;33m\u001b[0m\u001b[0m\n\u001b[0m\u001b[0;32m     69\u001b[0m \u001b[1;33m\u001b[0m\u001b[0m\n\u001b[0;32m     70\u001b[0m     \u001b[0mprint\u001b[0m\u001b[1;33m(\u001b[0m\u001b[1;34m'linha: '\u001b[0m\u001b[1;33m,\u001b[0m \u001b[0mlinha\u001b[0m\u001b[1;33m)\u001b[0m\u001b[1;33m\u001b[0m\u001b[1;33m\u001b[0m\u001b[0m\n",
      "\u001b[1;31mAttributeError\u001b[0m: 'Worksheet' object has no attribute 'write'"
     ]
    }
   ],
   "source": [
    "from selenium import webdriver as opções_selenium_aula\n",
    "from selenium.webdriver.common.keys import Keys\n",
    "from selenium.webdriver.common.by import By\n",
    "import pyautogui as pagi\n",
    "from openpyxl import load_workbook\n",
    "import os\n",
    "from unidecode import unidecode\n",
    "import time\n",
    "from datetime import datetime\n",
    "\n",
    "\n",
    "nome_caminho_arquivo = \"C:\\\\Users\\\\6324102\\Documents\\Alexandre\\PYTHON AUTOMATIZAÇÃO\\Jupyter\\lista_usuarios_tasy\\\\teste_senha_medicos_ead2.xlsx\"\n",
    "planilha_aberta = load_workbook(filename = nome_caminho_arquivo)\n",
    "\n",
    "#seleciona a aba que tem as informações a serem passadas para o formulario\n",
    "sheet_selecionada = planilha_aberta['Planilha1']\n",
    "\n",
    "pagi.alert('Criação Usuario Emfermeiro Tasy')\n",
    "\n",
    "data = datetime.now().strftime('%Y-%m-%d')\n",
    "hora = datetime.now().strftime('%H:%M:%S')\n",
    "print('Criação Usuario Medico Tasy\\n\\nInicio', 'Data: ', data, '- Hora: ', hora)\n",
    "\n",
    "meuNavegador = opções_selenium_aula.Chrome()\n",
    "meuNavegador.get('http://site.spdmafiliadas.org.br/gerarsenham/vcadastro3.php')\n",
    "\n",
    "#tempo de espera para abrir o site\n",
    "pagi.sleep(8)\n",
    "\n",
    "for linha in range(2, len(sheet_selecionada['A']) +1):\n",
    "\n",
    "    #pega a informação dentro da planilha\n",
    "    matricula2 = sheet_selecionada['A%s' % linha].value\n",
    "    #nome2 = sheet_selecionada['B%s' % linha].value\n",
    "    #senha2 = sheet_selecionada['C%s' % linha].value\n",
    "\n",
    "    #escreve a informação na tela\n",
    "    #print(matricula)\n",
    "    #print(unidecode(str(nome)))\n",
    "    \n",
    "    matricula = str(matricula2)\n",
    "    #nome = unidecode(str(nome2))\n",
    "    #senha = str(cpf2)\n",
    "\n",
    "    #digita a matricula no campo chapa\n",
    "    meuNavegador.find_element(By.NAME, 'busca_cpf').send_keys(matricula)\n",
    "\n",
    "    #tempo de espera para escrever\n",
    "    pagi.sleep(3)\n",
    "\n",
    "    #digita a matricula no campo chapa\n",
    "    meuNavegador.find_element(By.NAME, 'busca_cpf').send_keys(Keys.RETURN)\n",
    "\n",
    "    #tempo de espera para escrever\n",
    "    pagi.sleep(3)\n",
    "\n",
    "\n",
    "    senha = meuNavegador.find_elements(By.XPATH, '//*[@id=\"lpresult\"]/div[2]/p')\n",
    "    campo = []\n",
    "    for item in senha:\n",
    "        campo = item.text\n",
    "        print(item.text)\n",
    "\n",
    "    encontra_senha = campo.find('SENHA')\n",
    "    pega_senha = campo[encontra_senha+7:]\n",
    "    pega_senha = str(pega_senha)\n",
    "    \n",
    "    sheet_selecionada.write('C' + str(linha), pega_senha)\n",
    "    \n",
    "    print('linha: ', linha)\n",
    "    print('matricula: ',matricula)\n",
    "    print('nome: ', nome)\n",
    "    print('senha: ', pega_senha)\n",
    "    print('___________===============_________________=============__________\\n')\n",
    "\n",
    "data = datetime.now().strftime('%Y-%m-%d')\n",
    "hora = datetime.now().strftime('%H:%M:%S')\n",
    "print('\\nCriação Usuario Emfermeiro Tasy\\n\\nFinalizado', 'Data: ', data, '- Hora: ', hora)\n",
    "pagi.alert('Finalizado')"
   ]
  },
  {
   "cell_type": "code",
   "execution_count": 63,
   "id": "273063e0",
   "metadata": {},
   "outputs": [
    {
     "name": "stdout",
     "output_type": "stream",
     "text": [
      "NOME COMPLETO:RONALDO SOARES FARIA - SENHA: c07d8e\n",
      "37\n",
      "c07d8e\n"
     ]
    }
   ],
   "source": [
    "print(campo)\n",
    "print(campo.find('SENHA'))\n",
    "encontra_senha = campo.find('SENHA')\n",
    "pega_senha = campo[pega_senha+7:]\n",
    "print(pega_senha)"
   ]
  },
  {
   "cell_type": "code",
   "execution_count": 78,
   "id": "b5c54083",
   "metadata": {},
   "outputs": [
    {
     "name": "stdout",
     "output_type": "stream",
     "text": [
      "NOME COMPLETO:RODRIGO SALES INOCENTE - SENHA: 75610a\n",
      "senha do caboco: 75610a\n"
     ]
    }
   ],
   "source": [
    "    #digita a matricula no campo chapa\n",
    "    meuNavegador.find_element(By.NAME, 'busca_cpf').send_keys(matricula)\n",
    "\n",
    "    #tempo de espera para escrever\n",
    "    pagi.sleep(3)\n",
    "\n",
    "    #digita a matricula no campo chapa\n",
    "    meuNavegador.find_element(By.NAME, 'busca_cpf').send_keys(Keys.RETURN)\n",
    "\n",
    "    #tempo de espera para escrever\n",
    "    pagi.sleep(3)\n",
    "\n",
    "\n",
    "    senha = meuNavegador.find_elements(By.XPATH, '//*[@id=\"lpresult\"]/div[2]/p')\n",
    "    campo = []\n",
    "    for item in senha:\n",
    "        campo = item.text\n",
    "        print(item.text)\n",
    "\n",
    "    encontra_senha = campo.find('SENHA')\n",
    "    pega_senha = campo[encontra_senha+7:]\n",
    "    pega_senha = str(pega_senha)\n",
    "    print('senha do caboco: {}'.format(pega_senha))"
   ]
  },
  {
   "cell_type": "code",
   "execution_count": 86,
   "id": "6d3aaa8d",
   "metadata": {},
   "outputs": [
    {
     "ename": "AttributeError",
     "evalue": "'Worksheet' object has no attribute 'write'",
     "output_type": "error",
     "traceback": [
      "\u001b[1;31m---------------------------------------------------------------------------\u001b[0m",
      "\u001b[1;31mAttributeError\u001b[0m                            Traceback (most recent call last)",
      "\u001b[1;32m~\\AppData\\Local\\Temp/ipykernel_7336/1970460883.py\u001b[0m in \u001b[0;36m<module>\u001b[1;34m\u001b[0m\n\u001b[1;32m----> 1\u001b[1;33m \u001b[0msheet_selecionada\u001b[0m\u001b[1;33m.\u001b[0m\u001b[0mwrite\u001b[0m\u001b[1;33m(\u001b[0m\u001b[0mlinha\u001b[0m\u001b[1;33m,\u001b[0m \u001b[1;34m'C'\u001b[0m\u001b[1;33m,\u001b[0m \u001b[0mpega_senha\u001b[0m\u001b[1;33m)\u001b[0m\u001b[1;33m\u001b[0m\u001b[1;33m\u001b[0m\u001b[0m\n\u001b[0m",
      "\u001b[1;31mAttributeError\u001b[0m: 'Worksheet' object has no attribute 'write'"
     ]
    }
   ],
   "source": [
    "sheet_selecionada.write(linha, 'C', pega_senha)"
   ]
  },
  {
   "cell_type": "code",
   "execution_count": 88,
   "id": "5bae192d",
   "metadata": {},
   "outputs": [
    {
     "name": "stdout",
     "output_type": "stream",
     "text": [
      "Requirement already satisfied: xlsxwriter in c:\\programdata\\anaconda3\\lib\\site-packages (3.0.1)\n"
     ]
    }
   ],
   "source": [
    "!pip install xlsxwriter"
   ]
  },
  {
   "cell_type": "code",
   "execution_count": 100,
   "id": "93d9f32e",
   "metadata": {},
   "outputs": [
    {
     "data": {
      "text/plain": [
       "0"
      ]
     },
     "execution_count": 100,
     "metadata": {},
     "output_type": "execute_result"
    }
   ],
   "source": [
    "import xlsxwriter\n",
    " \n",
    "arquivo = 'C:\\\\Users\\\\6324102\\Documents\\Alexandre\\PYTHON AUTOMATIZAÇÃO\\Jupyter\\lista_usuarios_tasy\\\\teste_senha_medicos_ead.xlsx'\n",
    "planilha_criada = xlsxwriter.Workbook(arquivo)\n",
    "sheet1 = planilha_criada.add_worksheet()\n",
    "\n",
    "sheet1.write('C' + str(linha), pega_senha)"
   ]
  },
  {
   "cell_type": "code",
   "execution_count": null,
   "id": "0028d4d0",
   "metadata": {
    "scrolled": true
   },
   "outputs": [],
   "source": [
    "from selenium import webdriver as opções_selenium_aula\n",
    "from selenium.webdriver.common.keys import Keys\n",
    "from selenium.webdriver.common.by import By\n",
    "import pyautogui as pagi\n",
    "from openpyxl import load_workbook\n",
    "import os\n",
    "from unidecode import unidecode\n",
    "import time\n",
    "from datetime import datetime\n",
    "import xlsxwriter\n",
    "\n",
    "\n",
    "nome_caminho_arquivo = \"C:\\\\Users\\\\6324102\\Documents\\Alexandre\\PYTHON AUTOMATIZAÇÃO\\Jupyter\\lista_usuarios_tasy\\\\medicos_ead.xlsx\"\n",
    "planilha_aberta = load_workbook(filename = nome_caminho_arquivo)\n",
    "\n",
    "#seleciona a aba que tem as informações a serem passadas para o formulario\n",
    "sheet_selecionada = planilha_aberta['Planilha1']\n",
    "\n",
    "pagi.alert('Criação Usuario Emfermeiro Tasy')\n",
    "\n",
    "data = datetime.now().strftime('%Y-%m-%d')\n",
    "hora = datetime.now().strftime('%H:%M:%S')\n",
    "print('Criação Usuario Medico Tasy\\n\\nInicio', 'Data: ', data, '- Hora: ', hora)\n",
    "\n",
    "meuNavegador = opções_selenium_aula.Chrome()\n",
    "meuNavegador.get('http://site.spdmafiliadas.org.br/gerarsenham/vcadastro3.php')\n",
    "\n",
    "#tempo de espera para abrir o site\n",
    "pagi.sleep(8)\n",
    "\n",
    "\n",
    "arquivo = 'C:\\\\Users\\\\6324102\\Documents\\Alexandre\\PYTHON AUTOMATIZAÇÃO\\Jupyter\\\\medicos_ead_senha.xlsx'\n",
    "planilha_criada = xlsxwriter.Workbook(arquivo)\n",
    "sheet1 = planilha_criada.add_worksheet('Planilha1')\n",
    "\n",
    "for linha in range(2, len(sheet_selecionada['A']) +1):\n",
    "#for linha in range(2, 6):\n",
    "\n",
    "    #pega a informação dentro da planilha\n",
    "    matricula2 = sheet_selecionada['A%s' % linha].value\n",
    "    nome2 = sheet_selecionada['B%s' % linha].value\n",
    "    #senha2 = sheet_selecionada['C%s' % linha].value\n",
    "\n",
    "    #escreve a informação na tela\n",
    "    #print(matricula)\n",
    "    #print(unidecode(str(nome)))\n",
    "    \n",
    "    matricula = str(matricula2)\n",
    "    nome = unidecode(str(nome2))\n",
    "    #senha = str(cpf2)\n",
    "\n",
    "    #digita a matricula no campo chapa\n",
    "    meuNavegador.find_element(By.NAME, 'busca_cpf').send_keys(matricula)\n",
    "\n",
    "    #tempo de espera para escrever\n",
    "    pagi.sleep(3)\n",
    "\n",
    "    #digita a matricula no campo chapa\n",
    "    meuNavegador.find_element(By.NAME, 'busca_cpf').send_keys(Keys.RETURN)\n",
    "\n",
    "    #tempo de espera para escrever\n",
    "    pagi.sleep(3)\n",
    "\n",
    "\n",
    "    senha = meuNavegador.find_elements(By.XPATH, '//*[@id=\"lpresult\"]/div[2]/p')\n",
    "    campo = []\n",
    "    for item in senha:\n",
    "        campo = item.text\n",
    "        print(item.text)\n",
    "\n",
    "    encontra_senha = campo.find('SENHA')\n",
    "    pega_senha = campo[encontra_senha+7:]\n",
    "    pega_senha = str(pega_senha)\n",
    "    \n",
    "    sheet1.write('A' + str(linha), matricula)\n",
    "    sheet1.write('B' + str(linha), nome)\n",
    "    sheet1.write('C' + str(linha), pega_senha)\n",
    "\n",
    "    print('\\nlinha: ', linha)\n",
    "    print('matricula: ',matricula)\n",
    "    print('nome: ', nome)\n",
    "    print('senha: ', pega_senha)\n",
    "    print('___________===============_________________=============__________\\n')\n",
    "    \n",
    "planilha_criada.close()\n",
    "#os.startfile(arquivo)\n",
    "data = datetime.now().strftime('%Y-%m-%d')\n",
    "hora = datetime.now().strftime('%H:%M:%S')\n",
    "print('\\nCriação Usuario Emfermeiro Tasy\\n\\nFinalizado', 'Data: ', data, '- Hora: ', hora)\n",
    "pagi.alert('Finalizado')"
   ]
  },
  {
   "cell_type": "code",
   "execution_count": null,
   "id": "b1d3077d",
   "metadata": {},
   "outputs": [],
   "source": []
  }
 ],
 "metadata": {
  "kernelspec": {
   "display_name": "Python 3 (ipykernel)",
   "language": "python",
   "name": "python3"
  },
  "language_info": {
   "codemirror_mode": {
    "name": "ipython",
    "version": 3
   },
   "file_extension": ".py",
   "mimetype": "text/x-python",
   "name": "python",
   "nbconvert_exporter": "python",
   "pygments_lexer": "ipython3",
   "version": "3.9.7"
  }
 },
 "nbformat": 4,
 "nbformat_minor": 5
}
