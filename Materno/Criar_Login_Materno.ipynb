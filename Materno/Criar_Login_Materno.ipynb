{
 "cells": [
  {
   "cell_type": "code",
   "execution_count": 52,
   "id": "d4e7efa6",
   "metadata": {},
   "outputs": [],
   "source": [
    "# login materno\n",
    "\n",
    "#coding: utf-8\n",
    "import pyautogui\n",
    "import time\n",
    "\n",
    "navegador = 'microsoft edge'\n",
    "\n",
    "materno = '172.18.53.35'\n",
    "\n",
    "usuarioL = 'adm'\n",
    "senhaL = '@Hmmdolcti2021'\n",
    "\n",
    "nomePessoa = 'INGRID REIS DE SÁ'\n",
    "matricula = '922184'\n",
    "senha = '922184'\n",
    "\n",
    "pyautogui.alert(\"Criação de Cadastro Materno\") #pai é brabo\n",
    "pyautogui.PAUSE = 0.5 #tempo de espera entre uma linha e outra\n",
    "\n",
    "#abrir navegador\n",
    "pyautogui.press('winleft') #clica na tecla windowns\n",
    "pyautogui.press('altleft')\n",
    "pyautogui.write(navegador) #escreve o nome do navagador \"micfosoft edge\"\n",
    "pyautogui.press('enter') # aperta entrer para abrir\n",
    "\n",
    "#maximizar janela\n",
    "#time.sleep(2)\n",
    "#pyautogui.hotkey('altleft', 'space')\n",
    "#time.sleep(0.5)\n",
    "#pyautogui.press('x')\n",
    "\n",
    "\n",
    "time.sleep(2) #espera 3 segundos que é o tempo do pc abrir o software\n",
    "\n",
    "#entrar no site\n",
    "#pyautogui.moveTo(556, 39) #move para para barra de pesquisa\n",
    "#pyautogui.click() #clica barra de pesquisa\n",
    "pyautogui.write(materno) #digita o site na barra de pesquisa\n",
    "time.sleep(2)\n",
    "pyautogui.press('enter') #entra no site\n",
    "\n",
    "#logar no site\n",
    "time.sleep(1.5)\n",
    "pyautogui.write(usuarioL) #usuario\n",
    "pyautogui.press('tab') #passa para proximo campo\n",
    "pyautogui.write(senhaL) #senha\n",
    "pyautogui.press('enter') #entra no site\n",
    "\n",
    "#ir para pagina de cadastro\n",
    "pyautogui.moveTo(154, 93) #moveu para adm\n",
    "pyautogui.click() # clicou em adm\n",
    "pyautogui.moveTo(135, 312) # moveu em T.I\n",
    "pyautogui.moveTo(304, 349) #moveu para cadastros\n",
    "pyautogui.moveTo(492, 341) #moveu para emfermeiro\n",
    "pyautogui.moveTo(497, 400) #moveu para usuario\n",
    "pyautogui.click()\n",
    "\n",
    "#to na pagina cadastro usuario\n",
    "\n",
    "#Fazer cadastro usuario\n",
    "pyautogui.moveTo(256, 216) #moveu para nome\n",
    "pyautogui.click() # clicou em nome\n",
    "pyautogui.write(nomePessoa) # escreveu nome\n",
    "\n",
    "pyautogui.moveTo(137, 459) #moveu para usuario\n",
    "\n",
    "pyautogui.click() # clicou em usuario\n",
    "pyautogui.write(matricula) # escreveu usuario\n",
    "\n",
    "pyautogui.moveTo(133, 504) #moveu para senha\n",
    "pyautogui.click() #clica na senha\n",
    "pyautogui.write(senha) # escreveu senha\n",
    "\n",
    "pyautogui.moveTo(520, 450) #mover para enfermagem\n",
    "pyautogui.click() #clica em enfermagem\n",
    "\n",
    "#salvar usario\n",
    "pyautogui.moveTo(148,573) #move salvar\n",
    "#pyautogui.click() #clica salvar"
   ]
  },
  {
   "cell_type": "code",
   "execution_count": 9,
   "id": "f1d987f5",
   "metadata": {},
   "outputs": [
    {
     "name": "stdout",
     "output_type": "stream",
     "text": [
      "óóóóóóoóó\n"
     ]
    }
   ],
   "source": [
    "string = 'óóóóóóoóó'\n",
    "\n",
    "print(string)"
   ]
  },
  {
   "cell_type": "code",
   "execution_count": 48,
   "id": "ae1cb3d5",
   "metadata": {},
   "outputs": [
    {
     "name": "stdout",
     "output_type": "stream",
     "text": [
      "b'\\xc3\\x93\\xc3\\x93\\xc3\\x93\\xc3\\x93\\xc3\\x93\\xc3\\x93O\\xc3\\x93\\xc3\\x93'\n"
     ]
    }
   ],
   "source": [
    "import sys\n",
    "sys.setdefaultencoding = \"utf-8\"\n",
    "import pyautogui\n",
    "from unidecode import unidecode\n",
    "\n",
    "\n",
    "string = u'óóóóóóoóó'\n",
    "\n",
    "#pyautogui.write(unidecode(string.upper()))\n",
    "\n",
    "#print(pyautogui.write(string.upper()))\n",
    "\n",
    "print(string.upper().encode())"
   ]
  },
  {
   "cell_type": "code",
   "execution_count": null,
   "id": "27f83d29",
   "metadata": {
    "scrolled": false
   },
   "outputs": [],
   "source": []
  }
 ],
 "metadata": {
  "kernelspec": {
   "display_name": "Python 3 (ipykernel)",
   "language": "python",
   "name": "python3"
  },
  "language_info": {
   "codemirror_mode": {
    "name": "ipython",
    "version": 3
   },
   "file_extension": ".py",
   "mimetype": "text/x-python",
   "name": "python",
   "nbconvert_exporter": "python",
   "pygments_lexer": "ipython3",
   "version": "3.9.7"
  }
 },
 "nbformat": 4,
 "nbformat_minor": 5
}
